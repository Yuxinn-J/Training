{
 "cells": [
  {
   "cell_type": "code",
   "execution_count": 4,
   "metadata": {},
   "outputs": [],
   "source": [
    "import numpy as np"
   ]
  },
  {
   "cell_type": "code",
   "execution_count": 5,
   "metadata": {},
   "outputs": [
    {
     "name": "stdout",
     "output_type": "stream",
     "text": [
      "[[11 22]\n",
      " [33 44]]\n"
     ]
    }
   ],
   "source": [
    "A = np.array([[1, 2], [3, 4]])\n",
    "B = np.array([[10, 20], [30, 40]])\n",
    "C = A + B\n",
    "print(C)"
   ]
  },
  {
   "cell_type": "code",
   "execution_count": 7,
   "metadata": {},
   "outputs": [
    {
     "name": "stdout",
     "output_type": "stream",
     "text": [
      "m1.dtype:  float64\n",
      "m1.shape:  (3, 2, 4)\n",
      "m1.size:  24\n",
      "[[[0. 0. 0. 0.]\n",
      "  [0. 0. 0. 0.]]\n",
      "\n",
      " [[0. 0. 0. 0.]\n",
      "  [0. 0. 0. 0.]]\n",
      "\n",
      " [[0. 0. 0. 0.]\n",
      "  [0. 0. 0. 0.]]]\n"
     ]
    }
   ],
   "source": [
    "m1 = np.zeros((3, 2, 4))\n",
    "print('m1.dtype: ', m1.dtype)\n",
    "print('m1.shape: ', m1.shape)\n",
    "print('m1.size: ', m1.size)"
   ]
  },
  {
   "cell_type": "code",
   "execution_count": 9,
   "metadata": {},
   "outputs": [
    {
     "name": "stdout",
     "output_type": "stream",
     "text": [
      "m2.shape:  (2, 3, 4, 5)\n",
      "max(m2):  0.9922611073777815\n",
      "sum(m2):  58.97711152070815\n"
     ]
    }
   ],
   "source": [
    "m2 = np.random.rand(2, 3, 4, 5)\n",
    "print('max(m2): ',np.max(m2))\n",
    "print('sum(m2): ', np.sum(m2))"
   ]
  },
  {
   "cell_type": "code",
   "execution_count": 10,
   "metadata": {},
   "outputs": [
    {
     "name": "stdout",
     "output_type": "stream",
     "text": [
      "mean(v1): 0.06805316208654814\n",
      "std(v1):  1.0533549689835606\n",
      "\n",
      "mean(v2): 0.03324387244597899\n",
      "std(v2):  1.024074761103349\n"
     ]
    }
   ],
   "source": [
    "v1 = np.random.randn(100)\n",
    "v2 = np.random.randn(1000)\n",
    "print('mean(v1):', np.mean(v1))\n",
    "print('std(v1): ', np.std(v1))\n",
    "print()\n",
    "print('mean(v2):', np.mean(v2))\n",
    "print('std(v2): ', np.std(v2))"
   ]
  },
  {
   "cell_type": "code",
   "execution_count": 21,
   "metadata": {},
   "outputs": [
    {
     "name": "stdout",
     "output_type": "stream",
     "text": [
      "reverse 20-50:\n",
      " [50 49 48 47 46 45 44 43 42 41 40 39 38 37 36 35 34 33 32 31 30 29 28 27\n",
      " 26 25 24 23 22 21 20]\n"
     ]
    }
   ],
   "source": [
    "v3 = np.arange(20, 51)\n",
    "print('reverse 20-50:\\n', v3[::-1])"
   ]
  },
  {
   "cell_type": "code",
   "execution_count": 14,
   "metadata": {},
   "outputs": [
    {
     "name": "stdout",
     "output_type": "stream",
     "text": [
      "[[[ 1  2  3]\n",
      "  [ 4  5  6]\n",
      "  [ 7  8  9]]\n",
      "\n",
      " [[10 11 12]\n",
      "  [13 14 15]\n",
      "  [16 17 18]]\n",
      "\n",
      " [[19 20 21]\n",
      "  [22 23 24]\n",
      "  [25 26 27]]]\n"
     ]
    }
   ],
   "source": [
    "v4 = np.arange(1, 28)\n",
    "v4 = v4.reshape(3, 3, 3)\n",
    "print(v4)"
   ]
  },
  {
   "cell_type": "code",
   "execution_count": 19,
   "metadata": {},
   "outputs": [
    {
     "name": "stdout",
     "output_type": "stream",
     "text": [
      "dot(m3, m4):\n",
      " [[126  50  56]\n",
      " [144  61  95]\n",
      " [ 98  61  90]\n",
      " [155  62 118]\n",
      " [113  53  84]]\n"
     ]
    }
   ],
   "source": [
    "m3 = np.random.randint(9, size=(5, 6))\n",
    "m4 = np.random.randint(9, size=(6, 3))\n",
    "print('dot(m3, m4):\\n', np.dot(m3, m4))"
   ]
  },
  {
   "cell_type": "code",
   "execution_count": 23,
   "metadata": {},
   "outputs": [
    {
     "name": "stdout",
     "output_type": "stream",
     "text": [
      "v5:  [40 34 25 25 94 39 23 11 47 63 92 18 70 42 95 39 96 89 17 72]\n",
      "new vector:  [94 63 92 70 95 96 89 72]\n"
     ]
    }
   ],
   "source": [
    "v5 = np.random.randint(100, size=20)\n",
    "bool_indices = (v5 > 50)\n",
    "print('new vector: ', v5[bool_indices])"
   ]
  },
  {
   "cell_type": "code",
   "execution_count": null,
   "metadata": {},
   "outputs": [],
   "source": []
  }
 ],
 "metadata": {
  "kernelspec": {
   "display_name": "Python 3",
   "language": "python",
   "name": "python3"
  },
  "language_info": {
   "codemirror_mode": {
    "name": "ipython",
    "version": 3
   },
   "file_extension": ".py",
   "mimetype": "text/x-python",
   "name": "python",
   "nbconvert_exporter": "python",
   "pygments_lexer": "ipython3",
   "version": "3.8.5"
  }
 },
 "nbformat": 4,
 "nbformat_minor": 4
}
